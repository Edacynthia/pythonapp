{
 "cells": [
  {
   "cell_type": "code",
   "execution_count": 1,
   "id": "fa95cf1b-924c-4082-bc52-8a7972325c7d",
   "metadata": {},
   "outputs": [
    {
     "data": {
      "text/plain": [
       "('mango', 'apple')"
      ]
     },
     "execution_count": 1,
     "metadata": {},
     "output_type": "execute_result"
    }
   ],
   "source": [
    "color = ('mango', 'apple')\n",
    "color"
   ]
  },
  {
   "cell_type": "code",
   "execution_count": 5,
   "id": "c7301e8f-e014-48a2-a70a-b35005ec1e39",
   "metadata": {},
   "outputs": [
    {
     "name": "stdin",
     "output_type": "stream",
     "text": [
      "Enter your name :  Cynthia\n",
      "Enter a number :  29\n"
     ]
    },
    {
     "name": "stdout",
     "output_type": "stream",
     "text": [
      "Cynthia, 29 is an odd number 😎\n"
     ]
    }
   ],
   "source": [
    "name = input(\"Enter your name : \")\n",
    "num = int (input(\"Enter a number : \"))\n",
    "if num % 2 == 0:\n",
    "    print (f\"{name}, {num} is an even number\")\n",
    "\n",
    "else:\n",
    "    print (f\"{name}, {num} is an odd number 😎\") \n"
   ]
  },
  {
   "cell_type": "code",
   "execution_count": null,
   "id": "9cabbc21-7530-4c8b-975e-fe6308fe1ea0",
   "metadata": {},
   "outputs": [],
   "source": [
    "\n",
    "\n",
    "\n",
    "\n",
    "\n",
    "\n",
    "\n",
    "# Get user input\n",
    "name = input(\"Enter your name: \")\n",
    "num = int(input(\"Enter a number: \"))\n",
    "\n",
    "# Determine if number is even or odd\n",
    "if num % 2 == 0:\n",
    "    result = \"even\"\n",
    "else:\n",
    "    result = \"odd 😎\"\n",
    "\n",
    "# Define translations\n",
    "translations = {\n",
    "    \"english\": f\"{name}, {num} is an {result} number.\",\n",
    "    \"spanish\": f\"{name}, {num} es un número {'par' if result.startswith('even') else 'impar 😎'}.\",\n",
    "    \"french\": f\"{name}, {num} est un nombre {'pair' if result.startswith('even') else 'impair 😎'}.\",\n",
    "    \"chinese\": f\"{name}，{num} 是一个{'偶数' if result.startswith('even') else '奇数 😎'}。\",\n",
    "    \"italian\": f\"{name}, {num} è un numero {'pari' if result.startswith('even') else 'dispari 😎'}.\"\n",
    "}\n",
    "\n",
    "# Display results in all 5 languages\n",
    "print(\"\\nResult in multiple languages:\\n\")\n",
    "for language, sentence in translations.items():\n",
    "    print(f\"{language.title()}: {sentence}\")\n"
   ]
  }
 ],
 "metadata": {
  "kernelspec": {
   "display_name": "Python [conda env:base] *",
   "language": "python",
   "name": "conda-base-py"
  },
  "language_info": {
   "codemirror_mode": {
    "name": "ipython",
    "version": 3
   },
   "file_extension": ".py",
   "mimetype": "text/x-python",
   "name": "python",
   "nbconvert_exporter": "python",
   "pygments_lexer": "ipython3",
   "version": "3.12.4"
  }
 },
 "nbformat": 4,
 "nbformat_minor": 5
}
